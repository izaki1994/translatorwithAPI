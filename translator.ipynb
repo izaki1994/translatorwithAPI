{
 "cells": [
  {
   "cell_type": "code",
   "execution_count": null,
   "id": "75f60ed9",
   "metadata": {},
   "outputs": [],
   "source": [
    "! pip3 uninstall googletrans\n",
    "! pip3 install googletrans==3.1.0a0"
   ]
  },
  {
   "cell_type": "code",
   "execution_count": null,
   "id": "b33a3bf1",
   "metadata": {},
   "outputs": [],
   "source": [
    "from googletrans import Translator\n",
    "\n",
    "# Create a translator object\n",
    "translator = Translator()\n",
    "\n",
    "# Translate the generated caption from English to French\n",
    "generated_caption = \"a group of dogs race in the snow\"\n",
    "\"\n",
    "translated_caption = translator.translate(generated_caption, dest='ne')\n",
    "\n",
    "# Print the translated caption\n",
    "print(translated_caption.text)\n"
   ]
  },
  {
   "cell_type": "code",
   "execution_count": null,
   "id": "2dba83c1",
   "metadata": {},
   "outputs": [],
   "source": []
  }
 ],
 "metadata": {
  "kernelspec": {
   "display_name": "Python 3 (ipykernel)",
   "language": "python",
   "name": "python3"
  },
  "language_info": {
   "codemirror_mode": {
    "name": "ipython",
    "version": 3
   },
   "file_extension": ".py",
   "mimetype": "text/x-python",
   "name": "python",
   "nbconvert_exporter": "python",
   "pygments_lexer": "ipython3",
   "version": "3.9.12"
  }
 },
 "nbformat": 4,
 "nbformat_minor": 5
}
